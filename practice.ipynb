{
 "cells": [
  {
   "metadata": {},
   "cell_type": "code",
   "outputs": [],
   "execution_count": null,
   "source": [
    "name = input(\"What is your name? \")\n",
    "a_second_variable =2"
   ],
   "id": "d76eecafc005881c"
  }
 ],
 "metadata": {},
 "nbformat": 5,
 "nbformat_minor": 9
}
